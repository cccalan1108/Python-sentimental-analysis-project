{
 "cells": [
  {
   "cell_type": "code",
   "execution_count": null,
   "id": "7053f17c-f828-4e10-8fce-a4faf6059f9d",
   "metadata": {},
   "outputs": [],
   "source": []
  },
  {
   "cell_type": "code",
   "execution_count": 174,
   "id": "e7bb6a4f-5503-4802-a78b-5cf755c07722",
   "metadata": {},
   "outputs": [],
   "source": [
    "import pandas as pd\n",
    "import matplotlib.pyplot as plt\n",
    "import seaborn as sns\n",
    "import numpy as np\n",
    "\n",
    "from sklearn.preprocessing import LabelEncoder, OneHotEncoder\n",
    "from sklearn.feature_selection import mutual_info_classif,SelectKBest,RFE\n",
    "from sklearn.inspection import permutation_importance\n",
    "from sklearn.metrics import f1_score, confusion_matrix, ConfusionMatrixDisplay,classification_report\n",
    "from imblearn.over_sampling import SMOTE\n",
    "\n",
    "import warnings\n",
    "warnings.filterwarnings(\"ignore\")"
   ]
  },
  {
   "cell_type": "code",
   "execution_count": 175,
   "id": "fcd620d7-9f3f-4fca-8561-dd31aa3649b6",
   "metadata": {},
   "outputs": [],
   "source": [
    "raw = ['has_photo','has_video','emoji_count','has_question','has_exclaim','like_count','share_count','repost_count','reply_count','sentiment_score','lang','viral']"
   ]
  },
  {
   "cell_type": "code",
   "execution_count": 176,
   "id": "176bd644-03b4-4f5f-a04b-044ee6e4ad50",
   "metadata": {},
   "outputs": [
    {
     "name": "stdout",
     "output_type": "stream",
     "text": [
      "<class 'pandas.core.frame.DataFrame'>\n",
      "RangeIndex: 1519 entries, 0 to 1518\n",
      "Data columns (total 12 columns):\n",
      " #   Column           Non-Null Count  Dtype  \n",
      "---  ------           --------------  -----  \n",
      " 0   has_photo        1519 non-null   bool   \n",
      " 1   has_video        1519 non-null   bool   \n",
      " 2   emoji_count      1519 non-null   int64  \n",
      " 3   has_question     1519 non-null   bool   \n",
      " 4   has_exclaim      1519 non-null   bool   \n",
      " 5   like_count       1519 non-null   int64  \n",
      " 6   share_count      1519 non-null   int64  \n",
      " 7   repost_count     1519 non-null   int64  \n",
      " 8   reply_count      1519 non-null   int64  \n",
      " 9   sentiment_score  1519 non-null   float64\n",
      " 10  lang             1519 non-null   object \n",
      " 11  viral            1519 non-null   int64  \n",
      "dtypes: bool(4), float64(1), int64(6), object(1)\n",
      "memory usage: 101.0+ KB\n"
     ]
    }
   ],
   "source": [
    "df = pd.read_csv('training_data.csv')\n",
    "df = df[raw]\n",
    "df.info()"
   ]
  },
  {
   "cell_type": "code",
   "execution_count": 177,
   "id": "2194e76a-5a67-4f26-a03d-37765c73b70f",
   "metadata": {},
   "outputs": [
    {
     "name": "stdout",
     "output_type": "stream",
     "text": [
      "There are no missing values in the dataset.\n"
     ]
    }
   ],
   "source": [
    "def check_missing_values(df):\n",
    "    missing_values = df.isnull().sum()\n",
    "    if missing_values.any():\n",
    "        print(\"Columns with missing values:\")\n",
    "        print(missing_values[missing_values > 0])\n",
    "    else:\n",
    "        print(\"There are no missing values in the dataset.\")\n",
    "check_missing_values(df)"
   ]
  },
  {
   "cell_type": "code",
   "execution_count": 178,
   "id": "0bf8e8cb-6db4-4697-8640-edd46c5107be",
   "metadata": {},
   "outputs": [],
   "source": [
    "df.fillna(0, inplace=True)"
   ]
  },
  {
   "cell_type": "code",
   "execution_count": 179,
   "id": "442edf45-f775-4e89-a7ee-6f83678937d1",
   "metadata": {},
   "outputs": [
    {
     "data": {
      "text/plain": [
       "has_photo          0\n",
       "has_video          0\n",
       "emoji_count        0\n",
       "has_question       0\n",
       "has_exclaim        0\n",
       "like_count         0\n",
       "share_count        0\n",
       "repost_count       0\n",
       "reply_count        0\n",
       "sentiment_score    0\n",
       "lang               0\n",
       "viral              0\n",
       "dtype: int64"
      ]
     },
     "execution_count": 179,
     "metadata": {},
     "output_type": "execute_result"
    }
   ],
   "source": [
    "df.isnull().sum()"
   ]
  },
  {
   "cell_type": "code",
   "execution_count": 180,
   "id": "d5ac5f3e-4c03-4d59-867f-6b060ccd1f43",
   "metadata": {},
   "outputs": [
    {
     "data": {
      "text/html": [
       "<div>\n",
       "<style scoped>\n",
       "    .dataframe tbody tr th:only-of-type {\n",
       "        vertical-align: middle;\n",
       "    }\n",
       "\n",
       "    .dataframe tbody tr th {\n",
       "        vertical-align: top;\n",
       "    }\n",
       "\n",
       "    .dataframe thead th {\n",
       "        text-align: right;\n",
       "    }\n",
       "</style>\n",
       "<table border=\"1\" class=\"dataframe\">\n",
       "  <thead>\n",
       "    <tr style=\"text-align: right;\">\n",
       "      <th></th>\n",
       "      <th>feature</th>\n",
       "      <th>data_type</th>\n",
       "      <th>null_num</th>\n",
       "      <th>null_persen</th>\n",
       "      <th>unique_num</th>\n",
       "      <th>unique_sample</th>\n",
       "    </tr>\n",
       "  </thead>\n",
       "  <tbody>\n",
       "    <tr>\n",
       "      <th>0</th>\n",
       "      <td>has_photo</td>\n",
       "      <td>bool</td>\n",
       "      <td>0</td>\n",
       "      <td>0.0</td>\n",
       "      <td>2</td>\n",
       "      <td>[False, True]</td>\n",
       "    </tr>\n",
       "    <tr>\n",
       "      <th>1</th>\n",
       "      <td>has_video</td>\n",
       "      <td>bool</td>\n",
       "      <td>0</td>\n",
       "      <td>0.0</td>\n",
       "      <td>2</td>\n",
       "      <td>[False, True]</td>\n",
       "    </tr>\n",
       "    <tr>\n",
       "      <th>2</th>\n",
       "      <td>emoji_count</td>\n",
       "      <td>int64</td>\n",
       "      <td>0</td>\n",
       "      <td>0.0</td>\n",
       "      <td>14</td>\n",
       "      <td>[0, 3, 2, 4, 6, 1, 5, 10, 7, 12, 13, 23, 14, 11]</td>\n",
       "    </tr>\n",
       "    <tr>\n",
       "      <th>3</th>\n",
       "      <td>has_question</td>\n",
       "      <td>bool</td>\n",
       "      <td>0</td>\n",
       "      <td>0.0</td>\n",
       "      <td>2</td>\n",
       "      <td>[False, True]</td>\n",
       "    </tr>\n",
       "    <tr>\n",
       "      <th>4</th>\n",
       "      <td>has_exclaim</td>\n",
       "      <td>bool</td>\n",
       "      <td>0</td>\n",
       "      <td>0.0</td>\n",
       "      <td>2</td>\n",
       "      <td>[False, True]</td>\n",
       "    </tr>\n",
       "    <tr>\n",
       "      <th>5</th>\n",
       "      <td>like_count</td>\n",
       "      <td>int64</td>\n",
       "      <td>0</td>\n",
       "      <td>0.0</td>\n",
       "      <td>290</td>\n",
       "      <td>[0, 1, 17000, 3, 9, 5, 2, 13, 113, 33, 90, 10,...</td>\n",
       "    </tr>\n",
       "    <tr>\n",
       "      <th>6</th>\n",
       "      <td>share_count</td>\n",
       "      <td>int64</td>\n",
       "      <td>0</td>\n",
       "      <td>0.0</td>\n",
       "      <td>97</td>\n",
       "      <td>[0, 6655, 1, 13, 3, 145, 5, 9, 47, 2, 42, 23, ...</td>\n",
       "    </tr>\n",
       "    <tr>\n",
       "      <th>7</th>\n",
       "      <td>repost_count</td>\n",
       "      <td>int64</td>\n",
       "      <td>0</td>\n",
       "      <td>0.0</td>\n",
       "      <td>103</td>\n",
       "      <td>[0, 550, 1, 37, 81, 20, 280, 2, 3, 4, 86, 77, ...</td>\n",
       "    </tr>\n",
       "    <tr>\n",
       "      <th>8</th>\n",
       "      <td>reply_count</td>\n",
       "      <td>int64</td>\n",
       "      <td>0</td>\n",
       "      <td>0.0</td>\n",
       "      <td>81</td>\n",
       "      <td>[0, 440, 2, 5, 10, 1, 50, 3, 14, 29, 7, 28, 17...</td>\n",
       "    </tr>\n",
       "    <tr>\n",
       "      <th>9</th>\n",
       "      <td>sentiment_score</td>\n",
       "      <td>float64</td>\n",
       "      <td>0</td>\n",
       "      <td>0.0</td>\n",
       "      <td>1485</td>\n",
       "      <td>[0.6993615627288818, 0.9048394560813904, 0.648...</td>\n",
       "    </tr>\n",
       "    <tr>\n",
       "      <th>10</th>\n",
       "      <td>lang</td>\n",
       "      <td>object</td>\n",
       "      <td>0</td>\n",
       "      <td>0.0</td>\n",
       "      <td>1</td>\n",
       "      <td>[Ch]</td>\n",
       "    </tr>\n",
       "    <tr>\n",
       "      <th>11</th>\n",
       "      <td>viral</td>\n",
       "      <td>int64</td>\n",
       "      <td>0</td>\n",
       "      <td>0.0</td>\n",
       "      <td>3</td>\n",
       "      <td>[0, 1, 2]</td>\n",
       "    </tr>\n",
       "  </tbody>\n",
       "</table>\n",
       "</div>"
      ],
      "text/plain": [
       "            feature data_type  null_num  null_persen  unique_num  \\\n",
       "0         has_photo      bool         0          0.0           2   \n",
       "1         has_video      bool         0          0.0           2   \n",
       "2       emoji_count     int64         0          0.0          14   \n",
       "3      has_question      bool         0          0.0           2   \n",
       "4       has_exclaim      bool         0          0.0           2   \n",
       "5        like_count     int64         0          0.0         290   \n",
       "6       share_count     int64         0          0.0          97   \n",
       "7      repost_count     int64         0          0.0         103   \n",
       "8       reply_count     int64         0          0.0          81   \n",
       "9   sentiment_score   float64         0          0.0        1485   \n",
       "10             lang    object         0          0.0           1   \n",
       "11            viral     int64         0          0.0           3   \n",
       "\n",
       "                                        unique_sample  \n",
       "0                                       [False, True]  \n",
       "1                                       [False, True]  \n",
       "2    [0, 3, 2, 4, 6, 1, 5, 10, 7, 12, 13, 23, 14, 11]  \n",
       "3                                       [False, True]  \n",
       "4                                       [False, True]  \n",
       "5   [0, 1, 17000, 3, 9, 5, 2, 13, 113, 33, 90, 10,...  \n",
       "6   [0, 6655, 1, 13, 3, 145, 5, 9, 47, 2, 42, 23, ...  \n",
       "7   [0, 550, 1, 37, 81, 20, 280, 2, 3, 4, 86, 77, ...  \n",
       "8   [0, 440, 2, 5, 10, 1, 50, 3, 14, 29, 7, 28, 17...  \n",
       "9   [0.6993615627288818, 0.9048394560813904, 0.648...  \n",
       "10                                               [Ch]  \n",
       "11                                          [0, 1, 2]  "
      ]
     },
     "execution_count": 180,
     "metadata": {},
     "output_type": "execute_result"
    }
   ],
   "source": [
    "list_item = []\n",
    "for col in df.columns:\n",
    "    list_item.append([col, df[col].dtype, df[col].isna().sum(),\n",
    "                      100 * df[col].isna().sum() / len(df[col]),\n",
    "                      df[col].nunique(), df[col].unique()])\n",
    "desc_df = pd.DataFrame(data=list_item,\n",
    "                       columns=['feature', 'data_type', 'null_num', 'null_persen', 'unique_num', 'unique_sample'])\n",
    "desc_df"
   ]
  },
  {
   "cell_type": "markdown",
   "id": "cb179c71-050a-4e36-99bd-9f5e8667da1d",
   "metadata": {},
   "source": [
    "**test data**"
   ]
  },
  {
   "cell_type": "code",
   "execution_count": 181,
   "id": "98a0ee28-6fa0-4f18-95fe-37db54b900de",
   "metadata": {},
   "outputs": [
    {
     "name": "stdout",
     "output_type": "stream",
     "text": [
      "<class 'pandas.core.frame.DataFrame'>\n",
      "RangeIndex: 1519 entries, 0 to 1518\n",
      "Data columns (total 12 columns):\n",
      " #   Column           Non-Null Count  Dtype  \n",
      "---  ------           --------------  -----  \n",
      " 0   has_photo        1519 non-null   bool   \n",
      " 1   has_video        1519 non-null   bool   \n",
      " 2   emoji_count      1519 non-null   int64  \n",
      " 3   has_question     1519 non-null   bool   \n",
      " 4   has_exclaim      1519 non-null   bool   \n",
      " 5   like_count       1519 non-null   int64  \n",
      " 6   share_count      1519 non-null   int64  \n",
      " 7   repost_count     1519 non-null   int64  \n",
      " 8   reply_count      1519 non-null   int64  \n",
      " 9   sentiment_score  1519 non-null   float64\n",
      " 10  lang             1519 non-null   object \n",
      " 11  viral            1519 non-null   int64  \n",
      "dtypes: bool(4), float64(1), int64(6), object(1)\n",
      "memory usage: 101.0+ KB\n"
     ]
    }
   ],
   "source": [
    "df_test = pd.read_csv('test_data.csv')\n",
    "df_test = df_test[raw]\n",
    "df_test.info()\n"
   ]
  },
  {
   "cell_type": "code",
   "execution_count": 182,
   "id": "82ce016d-6641-465f-a943-6f69063380db",
   "metadata": {},
   "outputs": [
    {
     "name": "stdout",
     "output_type": "stream",
     "text": [
      "There are no missing values in the dataset.\n"
     ]
    }
   ],
   "source": [
    "def check_missing_values(df):\n",
    "    missing_values = df.isnull().sum()\n",
    "    if missing_values.any():\n",
    "        print(\"Columns with missing values:\")\n",
    "        print(missing_values[missing_values > 0])\n",
    "    else:\n",
    "        print(\"There are no missing values in the dataset.\")\n",
    "check_missing_values(df_test)"
   ]
  },
  {
   "cell_type": "code",
   "execution_count": 183,
   "id": "a4487dc9-1a0a-4e23-b2b7-f71648581988",
   "metadata": {},
   "outputs": [
    {
     "data": {
      "text/plain": [
       "has_photo          0\n",
       "has_video          0\n",
       "emoji_count        0\n",
       "has_question       0\n",
       "has_exclaim        0\n",
       "like_count         0\n",
       "share_count        0\n",
       "repost_count       0\n",
       "reply_count        0\n",
       "sentiment_score    0\n",
       "lang               0\n",
       "viral              0\n",
       "dtype: int64"
      ]
     },
     "execution_count": 183,
     "metadata": {},
     "output_type": "execute_result"
    }
   ],
   "source": [
    "df_test.isnull().sum()"
   ]
  },
  {
   "cell_type": "code",
   "execution_count": 184,
   "id": "ffdbebd4-2043-456e-af08-a2e8f8dd5397",
   "metadata": {},
   "outputs": [
    {
     "data": {
      "text/html": [
       "<div>\n",
       "<style scoped>\n",
       "    .dataframe tbody tr th:only-of-type {\n",
       "        vertical-align: middle;\n",
       "    }\n",
       "\n",
       "    .dataframe tbody tr th {\n",
       "        vertical-align: top;\n",
       "    }\n",
       "\n",
       "    .dataframe thead th {\n",
       "        text-align: right;\n",
       "    }\n",
       "</style>\n",
       "<table border=\"1\" class=\"dataframe\">\n",
       "  <thead>\n",
       "    <tr style=\"text-align: right;\">\n",
       "      <th></th>\n",
       "      <th>feature</th>\n",
       "      <th>data_type</th>\n",
       "      <th>null_num</th>\n",
       "      <th>null_persen</th>\n",
       "      <th>unique_num</th>\n",
       "      <th>unique_sample</th>\n",
       "    </tr>\n",
       "  </thead>\n",
       "  <tbody>\n",
       "    <tr>\n",
       "      <th>0</th>\n",
       "      <td>has_photo</td>\n",
       "      <td>bool</td>\n",
       "      <td>0</td>\n",
       "      <td>0.0</td>\n",
       "      <td>2</td>\n",
       "      <td>[False, True]</td>\n",
       "    </tr>\n",
       "    <tr>\n",
       "      <th>1</th>\n",
       "      <td>has_video</td>\n",
       "      <td>bool</td>\n",
       "      <td>0</td>\n",
       "      <td>0.0</td>\n",
       "      <td>2</td>\n",
       "      <td>[False, True]</td>\n",
       "    </tr>\n",
       "    <tr>\n",
       "      <th>2</th>\n",
       "      <td>emoji_count</td>\n",
       "      <td>int64</td>\n",
       "      <td>0</td>\n",
       "      <td>0.0</td>\n",
       "      <td>13</td>\n",
       "      <td>[0, 2, 1, 3, 8, 6, 5, 4, 7, 10, 9, 12, 19]</td>\n",
       "    </tr>\n",
       "    <tr>\n",
       "      <th>3</th>\n",
       "      <td>has_question</td>\n",
       "      <td>bool</td>\n",
       "      <td>0</td>\n",
       "      <td>0.0</td>\n",
       "      <td>2</td>\n",
       "      <td>[False, True]</td>\n",
       "    </tr>\n",
       "    <tr>\n",
       "      <th>4</th>\n",
       "      <td>has_exclaim</td>\n",
       "      <td>bool</td>\n",
       "      <td>0</td>\n",
       "      <td>0.0</td>\n",
       "      <td>2</td>\n",
       "      <td>[False, True]</td>\n",
       "    </tr>\n",
       "    <tr>\n",
       "      <th>5</th>\n",
       "      <td>like_count</td>\n",
       "      <td>int64</td>\n",
       "      <td>0</td>\n",
       "      <td>0.0</td>\n",
       "      <td>285</td>\n",
       "      <td>[4, 137, 175, 3, 0, 10000, 13, 8, 27, 7, 2, 52...</td>\n",
       "    </tr>\n",
       "    <tr>\n",
       "      <th>6</th>\n",
       "      <td>share_count</td>\n",
       "      <td>int64</td>\n",
       "      <td>0</td>\n",
       "      <td>0.0</td>\n",
       "      <td>91</td>\n",
       "      <td>[0, 9, 277, 2, 1, 3, 64, 26, 40, 8, 27, 4, 5, ...</td>\n",
       "    </tr>\n",
       "    <tr>\n",
       "      <th>7</th>\n",
       "      <td>repost_count</td>\n",
       "      <td>int64</td>\n",
       "      <td>0</td>\n",
       "      <td>0.0</td>\n",
       "      <td>102</td>\n",
       "      <td>[0, 2, 8, 1277, 1, 9, 7, 5, 128, 19, 14, 168, ...</td>\n",
       "    </tr>\n",
       "    <tr>\n",
       "      <th>8</th>\n",
       "      <td>reply_count</td>\n",
       "      <td>int64</td>\n",
       "      <td>0</td>\n",
       "      <td>0.0</td>\n",
       "      <td>80</td>\n",
       "      <td>[0, 4, 526, 67, 2, 1, 3, 32, 6, 9, 16, 51, 7, ...</td>\n",
       "    </tr>\n",
       "    <tr>\n",
       "      <th>9</th>\n",
       "      <td>sentiment_score</td>\n",
       "      <td>float64</td>\n",
       "      <td>0</td>\n",
       "      <td>0.0</td>\n",
       "      <td>1489</td>\n",
       "      <td>[0.6759315133094788, 0.5088005065917969, 0.5, ...</td>\n",
       "    </tr>\n",
       "    <tr>\n",
       "      <th>10</th>\n",
       "      <td>lang</td>\n",
       "      <td>object</td>\n",
       "      <td>0</td>\n",
       "      <td>0.0</td>\n",
       "      <td>1</td>\n",
       "      <td>[Ch]</td>\n",
       "    </tr>\n",
       "    <tr>\n",
       "      <th>11</th>\n",
       "      <td>viral</td>\n",
       "      <td>int64</td>\n",
       "      <td>0</td>\n",
       "      <td>0.0</td>\n",
       "      <td>3</td>\n",
       "      <td>[1, 2, 0]</td>\n",
       "    </tr>\n",
       "  </tbody>\n",
       "</table>\n",
       "</div>"
      ],
      "text/plain": [
       "            feature data_type  null_num  null_persen  unique_num  \\\n",
       "0         has_photo      bool         0          0.0           2   \n",
       "1         has_video      bool         0          0.0           2   \n",
       "2       emoji_count     int64         0          0.0          13   \n",
       "3      has_question      bool         0          0.0           2   \n",
       "4       has_exclaim      bool         0          0.0           2   \n",
       "5        like_count     int64         0          0.0         285   \n",
       "6       share_count     int64         0          0.0          91   \n",
       "7      repost_count     int64         0          0.0         102   \n",
       "8       reply_count     int64         0          0.0          80   \n",
       "9   sentiment_score   float64         0          0.0        1489   \n",
       "10             lang    object         0          0.0           1   \n",
       "11            viral     int64         0          0.0           3   \n",
       "\n",
       "                                        unique_sample  \n",
       "0                                       [False, True]  \n",
       "1                                       [False, True]  \n",
       "2          [0, 2, 1, 3, 8, 6, 5, 4, 7, 10, 9, 12, 19]  \n",
       "3                                       [False, True]  \n",
       "4                                       [False, True]  \n",
       "5   [4, 137, 175, 3, 0, 10000, 13, 8, 27, 7, 2, 52...  \n",
       "6   [0, 9, 277, 2, 1, 3, 64, 26, 40, 8, 27, 4, 5, ...  \n",
       "7   [0, 2, 8, 1277, 1, 9, 7, 5, 128, 19, 14, 168, ...  \n",
       "8   [0, 4, 526, 67, 2, 1, 3, 32, 6, 9, 16, 51, 7, ...  \n",
       "9   [0.6759315133094788, 0.5088005065917969, 0.5, ...  \n",
       "10                                               [Ch]  \n",
       "11                                          [1, 2, 0]  "
      ]
     },
     "execution_count": 184,
     "metadata": {},
     "output_type": "execute_result"
    }
   ],
   "source": [
    "list_item = []\n",
    "for col in df_test.columns:\n",
    "    list_item.append([col, df_test[col].dtype, df_test[col].isna().sum(),\n",
    "                      100 * df_test[col].isna().sum() / len(df_test[col]),\n",
    "                      df_test[col].nunique(), df_test[col].unique()])\n",
    "desc_df = pd.DataFrame(data=list_item,\n",
    "                       columns=['feature', 'data_type', 'null_num', 'null_persen', 'unique_num', 'unique_sample'])\n",
    "desc_df"
   ]
  },
  {
   "cell_type": "markdown",
   "id": "e01744d1-ab5d-4645-b7f1-48277ea3306c",
   "metadata": {},
   "source": [
    "**Baseline Model **"
   ]
  },
  {
   "cell_type": "code",
   "execution_count": 185,
   "id": "1ffc5213-db46-4cd5-9d72-1dc177e6b010",
   "metadata": {},
   "outputs": [],
   "source": [
    "for col in df.select_dtypes(include=['bool', 'category','object']):\n",
    "     df[col] = LabelEncoder().fit_transform(df[col])\n",
    "\n",
    "for col in df_test.select_dtypes(include=['bool', 'category','object']):\n",
    "     df_test[col] = LabelEncoder().fit_transform(df_test[col])\n",
    "    \n",
    "X_train = df.drop(columns = ['viral'])\n",
    "y_train = df['viral']\n",
    "\n",
    "X_test = df_test.drop(columns=['viral'])\n",
    "y_test = df_test['viral']"
   ]
  },
  {
   "cell_type": "code",
   "execution_count": 186,
   "id": "f1872c93-9e32-4109-9bd2-8c318631e2a6",
   "metadata": {},
   "outputs": [
    {
     "data": {
      "text/plain": [
       "viral\n",
       "0    749\n",
       "1    593\n",
       "2    177\n",
       "Name: count, dtype: int64"
      ]
     },
     "execution_count": 186,
     "metadata": {},
     "output_type": "execute_result"
    }
   ],
   "source": [
    "y_train.value_counts()"
   ]
  },
  {
   "cell_type": "code",
   "execution_count": 187,
   "id": "ba674690-0353-4c75-b924-2e79c31d9b14",
   "metadata": {},
   "outputs": [
    {
     "data": {
      "text/plain": [
       "viral\n",
       "0    749\n",
       "1    749\n",
       "2    749\n",
       "Name: count, dtype: int64"
      ]
     },
     "execution_count": 187,
     "metadata": {},
     "output_type": "execute_result"
    }
   ],
   "source": [
    "#handle imbalance\n",
    "smote = SMOTE(random_state=42)\n",
    "X_train,y_train = smote.fit_resample(X_train,y_train)\n",
    "y_train.value_counts()"
   ]
  },
  {
   "cell_type": "code",
   "execution_count": 188,
   "id": "66e78dac-8c55-44fc-b8bb-a15fcbb2becc",
   "metadata": {},
   "outputs": [
    {
     "name": "stdout",
     "output_type": "stream",
     "text": [
      "\n",
      "📊 Model: Random Forest\n",
      "🎯 Weighted F1 Score: 0.5979\n",
      "              precision    recall  f1-score   support\n",
      "\n",
      "           0      0.679     0.663     0.671       745\n",
      "           1      0.516     0.495     0.505       604\n",
      "           2      0.550     0.682     0.609       170\n",
      "\n",
      "    accuracy                          0.598      1519\n",
      "   macro avg      0.581     0.613     0.595      1519\n",
      "weighted avg      0.599     0.598     0.598      1519\n",
      "\n"
     ]
    },
    {
     "data": {
      "image/png": "[encoded data removed]",
      "text/plain": [
       "<Figure size 400x300 with 2 Axes>"
      ]
     },
     "metadata": {},
     "output_type": "display_data"
    },
    {
     "name": "stdout",
     "output_type": "stream",
     "text": [
      "\n",
      "📊 Model: Logistic Regression\n",
      "🎯 Weighted F1 Score: 0.6482\n",
      "              precision    recall  f1-score   support\n",
      "\n",
      "           0      0.664     0.882     0.758       745\n",
      "           1      0.647     0.416     0.506       604\n",
      "           2      0.739     0.618     0.673       170\n",
      "\n",
      "    accuracy                          0.667      1519\n",
      "   macro avg      0.684     0.638     0.646      1519\n",
      "weighted avg      0.666     0.667     0.648      1519\n",
      "\n"
     ]
    },
    {
     "data": {
      "image/png": "[encoded data removed]",
      "text/plain": [
       "<Figure size 400x300 with 2 Axes>"
      ]
     },
     "metadata": {},
     "output_type": "display_data"
    },
    {
     "name": "stdout",
     "output_type": "stream",
     "text": [
      "\n",
      "📊 Model: SVM\n",
      "🎯 Weighted F1 Score: 0.4375\n",
      "              precision    recall  f1-score   support\n",
      "\n",
      "           0      0.542     0.999     0.703       745\n",
      "           1      0.650     0.022     0.042       604\n",
      "           2      0.802     0.594     0.682       170\n",
      "\n",
      "    accuracy                          0.565      1519\n",
      "   macro avg      0.664     0.538     0.476      1519\n",
      "weighted avg      0.614     0.565     0.438      1519\n",
      "\n"
     ]
    },
    {
     "data": {
      "image/png": "[encoded data removed]",
      "text/plain": [
       "<Figure size 400x300 with 2 Axes>"
      ]
     },
     "metadata": {},
     "output_type": "display_data"
    },
    {
     "name": "stdout",
     "output_type": "stream",
     "text": [
      "\n",
      "📊 Model: XGBoost\n",
      "🎯 Weighted F1 Score: 0.6214\n",
      "              precision    recall  f1-score   support\n",
      "\n",
      "           0      0.699     0.679     0.689       745\n",
      "           1      0.541     0.528     0.534       604\n",
      "           2      0.580     0.700     0.635       170\n",
      "\n",
      "    accuracy                          0.621      1519\n",
      "   macro avg      0.607     0.636     0.619      1519\n",
      "weighted avg      0.623     0.621     0.621      1519\n",
      "\n"
     ]
    },
    {
     "data": {
      "image/png": "[encoded data removed]",
      "text/plain": [
       "<Figure size 400x300 with 2 Axes>"
      ]
     },
     "metadata": {},
     "output_type": "display_data"
    },
    {
     "name": "stdout",
     "output_type": "stream",
     "text": [
      "\n",
      "📊 Model: Naive Bayes\n",
      "🎯 Weighted F1 Score: 0.5442\n",
      "              precision    recall  f1-score   support\n",
      "\n",
      "           0      0.582     0.983     0.731       745\n",
      "           1      0.716     0.167     0.271       604\n",
      "           2      0.835     0.594     0.694       170\n",
      "\n",
      "    accuracy                          0.615      1519\n",
      "   macro avg      0.711     0.581     0.566      1519\n",
      "weighted avg      0.664     0.615     0.544      1519\n",
      "\n"
     ]
    },
    {
     "data": {
      "image/png": "[encoded data removed]",
      "text/plain": [
       "<Figure size 400x300 with 2 Axes>"
      ]
     },
     "metadata": {},
     "output_type": "display_data"
    }
   ],
   "source": [
    "from sklearn.ensemble import RandomForestClassifier\n",
    "from sklearn.linear_model import LogisticRegression\n",
    "from sklearn.svm import SVC\n",
    "from sklearn.naive_bayes import GaussianNB\n",
    "from xgboost import XGBClassifier\n",
    "\n",
    "\n",
    "\n",
    "# Define models\n",
    "models = {\n",
    "    \"Random Forest\": RandomForestClassifier( random_state=42),\n",
    "    \"Logistic Regression\": LogisticRegression(max_iter=1000, random_state=42),\n",
    "    \"SVM\": SVC( probability=True, random_state=42),\n",
    "    \"XGBoost\": XGBClassifier(use_label_encoder=False,  random_state=42),\n",
    "    \"Naive Bayes\": GaussianNB()\n",
    "}\n",
    "\n",
    "for name, model in models.items():\n",
    "    model.fit(X_train, y_train)\n",
    "    y_pred = model.predict(X_test)\n",
    "\n",
    "    # Use weighted F1\n",
    "    f1 = f1_score(y_test, y_pred, average='weighted')\n",
    "    cm = confusion_matrix(y_test, y_pred)\n",
    "\n",
    "    print(f\"\\n📊 Model: {name}\")\n",
    "    print(f\"🎯 Weighted F1 Score: {f1:.4f}\")\n",
    "    print(classification_report(y_test, y_pred, digits=3))  \n",
    "\n",
    "    # Plot confusion matrix\n",
    "    plt.figure(figsize=(4, 3))\n",
    "    sns.heatmap(cm, annot=True, fmt=\"d\", cmap=\"Blues\")\n",
    "    plt.title(f'Confusion Matrix - {name}')\n",
    "    plt.xlabel('Predicted')\n",
    "    plt.ylabel('Actual')\n",
    "    plt.tight_layout()\n",
    "    plt.show()\n"
   ]
  }
 ],
 "metadata": {
  "kernelspec": {
   "display_name": "Python 3 (ipykernel)",
   "language": "python",
   "name": "python3"
  },
  "language_info": {
   "codemirror_mode": {
    "name": "ipython",
    "version": 3
   },
   "file_extension": ".py",
   "mimetype": "text/x-python",
   "name": "python",
   "nbconvert_exporter": "python",
   "pygments_lexer": "ipython3",
   "version": "3.11.2"
  }
 },
 "nbformat": 4,
 "nbformat_minor": 5
}
